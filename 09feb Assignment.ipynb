{
 "cells": [
  {
   "cell_type": "markdown",
   "metadata": {},
   "source": [
    "Q1. Create a vehicle class with an init method having instance variables as name_of_vehicle, max_speed\n",
    "and average_of_vehicle."
   ]
  },
  {
   "cell_type": "code",
   "execution_count": 3,
   "metadata": {},
   "outputs": [
    {
     "name": "stdout",
     "output_type": "stream",
     "text": [
      "vehicel name is hero it has maximmum speed 120km/h and average is 50km/h\n"
     ]
    }
   ],
   "source": [
    "class vehicle:\n",
    "\n",
    "    def __init__(self,name_of_vehicle, max_speed,average_of_vehicle):\n",
    "\n",
    "        self.name_of_vehicle = name_of_vehicle\n",
    "        self.max_speed = max_speed\n",
    "        self.average_of_vehicle = average_of_vehicle\n",
    "    \n",
    "    def show_details(self):\n",
    "        print(f\"vehicel name is {self.name_of_vehicle} it has maximmum speed {self.max_speed}km/h and average is {self.average_of_vehicle}km/h\")\n",
    "\n",
    "\n",
    "vehicle1 = vehicle(\"hero\",120,50)\n",
    "vehicle1.show_details()"
   ]
  },
  {
   "cell_type": "markdown",
   "metadata": {},
   "source": [
    "Q2. Create a child class car from the vehicle class created in Que 1, which will inherit the vehicle class.\n",
    "Create a method named seating_capacity which takes capacity as an argument and returns the name of\n",
    "the vehicle and its seating capacity."
   ]
  },
  {
   "cell_type": "code",
   "execution_count": 9,
   "metadata": {},
   "outputs": [
    {
     "data": {
      "text/plain": [
       "'seating capacity of toyota inova is 7'"
      ]
     },
     "execution_count": 9,
     "metadata": {},
     "output_type": "execute_result"
    }
   ],
   "source": [
    "class car(vehicle):\n",
    "\n",
    "    def seating_capacity(self,capacity):\n",
    "        self.capacity = capacity\n",
    "        return (f\"seating capacity of {self.name_of_vehicle} is {self.capacity}\")\n",
    "\n",
    "car1 = car(\"toyota inova\",180,30)\n",
    "car1.seating_capacity(7)"
   ]
  },
  {
   "cell_type": "markdown",
   "metadata": {},
   "source": [
    "Q3. What is multiple inheritance? Write a python code to demonstrate multiple inheritance.\n",
    "\n",
    "Ans:\n",
    "\n",
    " class can inherit attributes and methods from more than one parent class. In other words, a class can have multiple base classes from which it inherits. This allows for the sharing of features from multiple sources, but it can also lead to complex interactions and potential conflicts if not used carefully."
   ]
  },
  {
   "cell_type": "code",
   "execution_count": 11,
   "metadata": {},
   "outputs": [
    {
     "name": "stdout",
     "output_type": "stream",
     "text": [
      "Father's property: Land\n",
      "Mother's jewelry: Gold\n",
      "Child's toys: Toys\n"
     ]
    }
   ],
   "source": [
    "class Father:\n",
    "    def __init__(self):\n",
    "        self.property = \"Land\"\n",
    "    \n",
    "    def show_property(self):\n",
    "        print(f\"Father's property: {self.property}\")\n",
    "\n",
    "class Mother:\n",
    "    def __init__(self):\n",
    "        self.jewelry = \"Gold\"\n",
    "    \n",
    "    def show_jewelry(self):\n",
    "        print(f\"Mother's jewelry: {self.jewelry}\")\n",
    "\n",
    "class Child(Father, Mother):\n",
    "    def __init__(self):\n",
    "        Father.__init__(self)\n",
    "        Mother.__init__(self)\n",
    "        self.toys = \"Toys\"\n",
    "    \n",
    "    def show_toys(self):\n",
    "        print(f\"Child's toys: {self.toys}\")\n",
    "\n",
    "# Creating an instance of the Child class\n",
    "child = Child()\n",
    "\n",
    "# Accessing attributes and methods from multiple parent classes\n",
    "child.show_property()\n",
    "child.show_jewelry()\n",
    "child.show_toys()\n"
   ]
  },
  {
   "cell_type": "markdown",
   "metadata": {},
   "source": [
    "Q4. What are getter and setter in python? Create a class and create a getter and a setter method in this\n",
    "class.\n",
    "\n",
    "Ans:\n",
    "\n",
    "In Python, getters and setters are methods used to access and modify the private attributes of a class. They are used to implement encapsulation, which is the practice of hiding the internal details of an object and providing controlled access to its attributes."
   ]
  },
  {
   "cell_type": "code",
   "execution_count": 15,
   "metadata": {},
   "outputs": [
    {
     "name": "stdout",
     "output_type": "stream",
     "text": [
      "Initial name: jagadish\n",
      "Initial age: 20\n",
      "Updated name: jagu\n",
      "Updated age: 25\n"
     ]
    }
   ],
   "source": [
    "class Student:\n",
    "    def __init__(self, name, age):\n",
    "        self.__name = name  \n",
    "        self.__age = age    \n",
    "    \n",
    "    def get_name(self):\n",
    "        return self.__name\n",
    "    \n",
    "    def set_name(self, name):\n",
    "        self.__name = name\n",
    "    \n",
    "    def get_age(self):\n",
    "        return self.__age\n",
    "    \n",
    "    def set_age(self, age):\n",
    "        if age > 0:\n",
    "            self.__age = age\n",
    "        else:\n",
    "            print(\"Age must be a positive value\")\n",
    "\n",
    "student = Student(\"jagadish\", 20)\n",
    "\n",
    "print(f\"Initial name: {student.get_name()}\")\n",
    "print(f\"Initial age: {student.get_age()}\")\n",
    "\n",
    "student.set_name(\"jagu\")\n",
    "student.set_age(25)\n",
    "\n",
    "print(f\"Updated name: {student.get_name()}\")\n",
    "print(f\"Updated age: {student.get_age()}\")\n"
   ]
  },
  {
   "cell_type": "markdown",
   "metadata": {},
   "source": [
    "Q5.What is method overriding in python? Write a python code to demonstrate method overriding.\n",
    "\n",
    "Ans:\n",
    "\n",
    "Method overriding is a concept in object-oriented programming where a subclass provides a specific implementation for a method that is already defined in its superclass. When a method in the subclass has the same name and parameters as a method in the superclass, the method in the subclass overrides the method in the superclass."
   ]
  },
  {
   "cell_type": "code",
   "execution_count": 16,
   "metadata": {},
   "outputs": [
    {
     "name": "stdout",
     "output_type": "stream",
     "text": [
      "Woof! Woof!\n",
      "Meow\n"
     ]
    }
   ],
   "source": [
    "class Animal:\n",
    "    def make_sound(self):\n",
    "        print(\"Some generic animal sound\")\n",
    "\n",
    "class Dog(Animal):\n",
    "    def make_sound(self):\n",
    "        print(\"Woof! Woof!\")\n",
    "\n",
    "class Cat(Animal):\n",
    "    def make_sound(self):\n",
    "        print(\"Meow\")\n",
    "\n",
    "dog = Dog()\n",
    "cat = Cat()\n",
    "\n",
    "dog.make_sound()\n",
    "cat.make_sound()  "
   ]
  },
  {
   "cell_type": "code",
   "execution_count": null,
   "metadata": {},
   "outputs": [],
   "source": []
  }
 ],
 "metadata": {
  "kernelspec": {
   "display_name": "Python 3",
   "language": "python",
   "name": "python3"
  },
  "language_info": {
   "codemirror_mode": {
    "name": "ipython",
    "version": 3
   },
   "file_extension": ".py",
   "mimetype": "text/x-python",
   "name": "python",
   "nbconvert_exporter": "python",
   "pygments_lexer": "ipython3",
   "version": "3.10.4"
  },
  "orig_nbformat": 4
 },
 "nbformat": 4,
 "nbformat_minor": 2
}
